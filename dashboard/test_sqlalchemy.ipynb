{
 "cells": [
  {
   "cell_type": "code",
   "execution_count": 2,
   "metadata": {},
   "outputs": [
    {
     "data": {
      "text/plain": [
       "['school_geo']"
      ]
     },
     "execution_count": 2,
     "metadata": {},
     "output_type": "execute_result"
    }
   ],
   "source": [
    "from sqlalchemy import create_engine\n",
    "import pandas as pd\n",
    "import psycopg2\n",
    "\n",
    "username = 'godenmyqjrmzoe'\n",
    "password = '673e2f643ed4ddbe58c111219261e6872457e45e34e34c617efa029f10429c0f'\n",
    "host = 'ec2-54-83-137-206.compute-1.amazonaws.com'\n",
    "db = 'dc995n2umb789o'\n",
    "\n",
    "engine = create_engine(f'postgresql+psycopg2://{username}:{password}@{host}/{db}')\n",
    "engine.table_names()"
   ]
  },
  {
   "cell_type": "code",
   "execution_count": 21,
   "metadata": {},
   "outputs": [],
   "source": [
    "school = \"Alabama\""
   ]
  },
  {
   "cell_type": "code",
   "execution_count": 22,
   "metadata": {},
   "outputs": [
    {
     "data": {
      "text/html": [
       "<div>\n",
       "<style scoped>\n",
       "    .dataframe tbody tr th:only-of-type {\n",
       "        vertical-align: middle;\n",
       "    }\n",
       "\n",
       "    .dataframe tbody tr th {\n",
       "        vertical-align: top;\n",
       "    }\n",
       "\n",
       "    .dataframe thead th {\n",
       "        text-align: right;\n",
       "    }\n",
       "</style>\n",
       "<table border=\"1\" class=\"dataframe\">\n",
       "  <thead>\n",
       "    <tr style=\"text-align: right;\">\n",
       "      <th></th>\n",
       "      <th>unitid</th>\n",
       "      <th>institution_name</th>\n",
       "      <th>state_cd</th>\n",
       "      <th>lat</th>\n",
       "      <th>lon</th>\n",
       "      <th>region</th>\n",
       "      <th>nearest_mlb</th>\n",
       "      <th>nearest_mlb_dist</th>\n",
       "      <th>nearest_nba</th>\n",
       "      <th>nearest_nba_dist</th>\n",
       "    </tr>\n",
       "  </thead>\n",
       "  <tbody>\n",
       "    <tr>\n",
       "      <th>0</th>\n",
       "      <td>100654</td>\n",
       "      <td>Alabama A &amp; M University</td>\n",
       "      <td>AL</td>\n",
       "      <td>34.783</td>\n",
       "      <td>-86.569</td>\n",
       "      <td>ESC</td>\n",
       "      <td>Atlanta Braves</td>\n",
       "      <td>134.8</td>\n",
       "      <td>Atlanta Hawks</td>\n",
       "      <td>142.8</td>\n",
       "    </tr>\n",
       "    <tr>\n",
       "      <th>1</th>\n",
       "      <td>100706</td>\n",
       "      <td>University of Alabama in Huntsville</td>\n",
       "      <td>AL</td>\n",
       "      <td>34.725</td>\n",
       "      <td>-86.640</td>\n",
       "      <td>ESC</td>\n",
       "      <td>Atlanta Braves</td>\n",
       "      <td>136.7</td>\n",
       "      <td>Atlanta Hawks</td>\n",
       "      <td>144.5</td>\n",
       "    </tr>\n",
       "    <tr>\n",
       "      <th>2</th>\n",
       "      <td>100724</td>\n",
       "      <td>Alabama State University</td>\n",
       "      <td>AL</td>\n",
       "      <td>32.364</td>\n",
       "      <td>-86.295</td>\n",
       "      <td>ESC</td>\n",
       "      <td>Atlanta Braves</td>\n",
       "      <td>149.3</td>\n",
       "      <td>Atlanta Hawks</td>\n",
       "      <td>146.1</td>\n",
       "    </tr>\n",
       "    <tr>\n",
       "      <th>3</th>\n",
       "      <td>100751</td>\n",
       "      <td>The University of Alabama</td>\n",
       "      <td>AL</td>\n",
       "      <td>33.211</td>\n",
       "      <td>-87.546</td>\n",
       "      <td>ESC</td>\n",
       "      <td>Atlanta Braves</td>\n",
       "      <td>183.3</td>\n",
       "      <td>Atlanta Hawks</td>\n",
       "      <td>185.4</td>\n",
       "    </tr>\n",
       "    <tr>\n",
       "      <th>4</th>\n",
       "      <td>100760</td>\n",
       "      <td>Central Alabama Community College</td>\n",
       "      <td>AL</td>\n",
       "      <td>32.926</td>\n",
       "      <td>-85.946</td>\n",
       "      <td>ESC</td>\n",
       "      <td>Atlanta Braves</td>\n",
       "      <td>108.2</td>\n",
       "      <td>Atlanta Hawks</td>\n",
       "      <td>106.3</td>\n",
       "    </tr>\n",
       "  </tbody>\n",
       "</table>\n",
       "</div>"
      ],
      "text/plain": [
       "   unitid                     institution_name state_cd     lat     lon  \\\n",
       "0  100654             Alabama A & M University       AL  34.783 -86.569   \n",
       "1  100706  University of Alabama in Huntsville       AL  34.725 -86.640   \n",
       "2  100724             Alabama State University       AL  32.364 -86.295   \n",
       "3  100751            The University of Alabama       AL  33.211 -87.546   \n",
       "4  100760    Central Alabama Community College       AL  32.926 -85.946   \n",
       "\n",
       "  region     nearest_mlb  nearest_mlb_dist    nearest_nba  nearest_nba_dist  \n",
       "0    ESC  Atlanta Braves             134.8  Atlanta Hawks             142.8  \n",
       "1    ESC  Atlanta Braves             136.7  Atlanta Hawks             144.5  \n",
       "2    ESC  Atlanta Braves             149.3  Atlanta Hawks             146.1  \n",
       "3    ESC  Atlanta Braves             183.3  Atlanta Hawks             185.4  \n",
       "4    ESC  Atlanta Braves             108.2  Atlanta Hawks             106.3  "
      ]
     },
     "execution_count": 22,
     "metadata": {},
     "output_type": "execute_result"
    }
   ],
   "source": [
    "pd.read_sql_query(f\"select * from school_geo where institution_name ilike '%%{school}%%'\", con=engine).head()"
   ]
  },
  {
   "cell_type": "code",
   "execution_count": null,
   "metadata": {},
   "outputs": [],
   "source": []
  }
 ],
 "metadata": {
  "kernelspec": {
   "display_name": "PythonData",
   "language": "python",
   "name": "pythondata"
  },
  "language_info": {
   "codemirror_mode": {
    "name": "ipython",
    "version": 3
   },
   "file_extension": ".py",
   "mimetype": "text/x-python",
   "name": "python",
   "nbconvert_exporter": "python",
   "pygments_lexer": "ipython3",
   "version": "3.7.6"
  }
 },
 "nbformat": 4,
 "nbformat_minor": 4
}
